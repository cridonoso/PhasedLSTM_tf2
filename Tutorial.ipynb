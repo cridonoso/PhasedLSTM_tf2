{
 "cells": [
  {
   "cell_type": "code",
   "execution_count": 1,
   "metadata": {},
   "outputs": [],
   "source": [
    "import tensorflow as tf\n",
    "from tensorflow import keras\n",
    "from tensorflow.keras.layers import LSTMCell, Dense, Input, RNN\n",
    "from tensorflow.keras.datasets import mnist\n",
    "import numpy as np\n",
    "\n",
    "from rnn_layers import PhasedLSTM\n",
    "\n",
    "import matplotlib.pyplot as plt"
   ]
  },
  {
   "cell_type": "code",
   "execution_count": 2,
   "metadata": {},
   "outputs": [],
   "source": [
    "def transform_xy(X, y):\n",
    "    img_size = X.shape\n",
    "    time_steps = img_size[1]*img_size[2]\n",
    "    x = tf.cast(tf.reshape(X, [-1, time_steps, 1]), dtype=tf.int32)    \n",
    "    t = tf.tile([tf.range(time_steps)], [img_size[0], 1])\n",
    "    t = tf.expand_dims(t, 2)\n",
    "    X = tf.concat([t, x], axis=2)\n",
    "    uniques, _ = tf.unique(y)\n",
    "    n_classes = uniques.shape[0]\n",
    "    y_one_hot = tf.one_hot(y, n_classes)\n",
    "    return X, y_one_hot"
   ]
  },
  {
   "cell_type": "code",
   "execution_count": 3,
   "metadata": {},
   "outputs": [],
   "source": [
    "(X, y), (X_test, y_test) = mnist.load_data()\n",
    "X_train, y_train = X[:-10000], y[:-10000]\n",
    "X_val, y_val = X[10000:], y[10000:]\n",
    "\n",
    "# Transforming input and labels\n",
    "X_train, y_train = transform_xy(X_train, y_train)\n",
    "X_val, y_val     = transform_xy(X_val, y_val)\n",
    "X_test, y_test   = transform_xy(X_test, y_test)"
   ]
  },
  {
   "cell_type": "code",
   "execution_count": 4,
   "metadata": {},
   "outputs": [],
   "source": [
    "phased_model = tf.keras.Sequential()\n",
    "phased_model.add(RNN(PhasedLSTM(32), input_shape=(28 * 28, 2)))\n",
    "phased_model.add(Dense(10, activation='softmax'))\n",
    "# model.summary()\n",
    "lstm_model = tf.keras.Sequential()\n",
    "lstm_model.add(RNN(LSTMCell(32), input_shape=(28 * 28, 2)))\n",
    "lstm_model.add(Dense(10, activation='softmax'))"
   ]
  },
  {
   "cell_type": "code",
   "execution_count": 5,
   "metadata": {},
   "outputs": [],
   "source": [
    "phased_model.compile(optimizer=\"rmsprop\", \n",
    "                     loss='categorical_crossentropy',\n",
    "                     metrics=['accuracy'])\n",
    "\n",
    "lstm_model.compile(optimizer=\"rmsprop\", \n",
    "                   loss='categorical_crossentropy',\n",
    "                   metrics=['accuracy'])"
   ]
  },
  {
   "cell_type": "code",
   "execution_count": 6,
   "metadata": {},
   "outputs": [
    {
     "name": "stdout",
     "output_type": "stream",
     "text": [
      "Epoch 1/10\n",
      "196/196 [==============================] - 243s 1s/step - loss: 2.2460 - accuracy: 0.1875 - val_loss: 2.1688 - val_accuracy: 0.1856\n",
      "Epoch 2/10\n",
      "196/196 [==============================] - 244s 1s/step - loss: 2.1333 - accuracy: 0.1804 - val_loss: 2.0958 - val_accuracy: 0.1832\n",
      "Epoch 3/10\n",
      "196/196 [==============================] - 244s 1s/step - loss: 2.0719 - accuracy: 0.1822 - val_loss: 2.0484 - val_accuracy: 0.1881\n",
      "Epoch 4/10\n",
      "196/196 [==============================] - 242s 1s/step - loss: 2.0313 - accuracy: 0.1882 - val_loss: 2.0092 - val_accuracy: 0.2095\n",
      "Epoch 5/10\n",
      "196/196 [==============================] - 243s 1s/step - loss: 2.0047 - accuracy: 0.1943 - val_loss: 1.9977 - val_accuracy: 0.1854\n",
      "Epoch 6/10\n",
      "196/196 [==============================] - 243s 1s/step - loss: 1.9908 - accuracy: 0.1938 - val_loss: 2.0028 - val_accuracy: 0.2020\n",
      "Epoch 7/10\n",
      "196/196 [==============================] - 244s 1s/step - loss: 1.9815 - accuracy: 0.1917 - val_loss: 1.9773 - val_accuracy: 0.2083\n",
      "Epoch 8/10\n",
      "196/196 [==============================] - 242s 1s/step - loss: 1.9682 - accuracy: 0.2178 - val_loss: 1.9490 - val_accuracy: 0.2300\n",
      "Epoch 9/10\n",
      "196/196 [==============================] - 243s 1s/step - loss: 1.9473 - accuracy: 0.2711 - val_loss: 1.9576 - val_accuracy: 0.2454\n",
      "Epoch 10/10\n",
      "196/196 [==============================] - 243s 1s/step - loss: 1.9125 - accuracy: 0.3012 - val_loss: 1.8981 - val_accuracy: 0.2773\n"
     ]
    }
   ],
   "source": [
    "history_lstm = lstm_model.fit(X_train,\n",
    "                              y_train,\n",
    "                              batch_size=256,\n",
    "                              epochs=10,\n",
    "                              validation_data=(X_val, y_val))"
   ]
  },
  {
   "cell_type": "code",
   "execution_count": 7,
   "metadata": {},
   "outputs": [
    {
     "name": "stdout",
     "output_type": "stream",
     "text": [
      "Epoch 1/10\n",
      "196/196 [==============================] - 737s 4s/step - loss: 1.6987 - accuracy: 0.4141 - val_loss: 1.2582 - val_accuracy: 0.5846\n",
      "Epoch 2/10\n",
      "196/196 [==============================] - 734s 4s/step - loss: 1.0874 - accuracy: 0.6293 - val_loss: 0.9403 - val_accuracy: 0.6751\n",
      "Epoch 3/10\n",
      "196/196 [==============================] - 735s 4s/step - loss: 0.8696 - accuracy: 0.7056 - val_loss: 0.8294 - val_accuracy: 0.7102\n",
      "Epoch 4/10\n",
      "196/196 [==============================] - 736s 4s/step - loss: 0.7583 - accuracy: 0.7494 - val_loss: 0.7632 - val_accuracy: 0.7566\n",
      "Epoch 5/10\n",
      "196/196 [==============================] - 737s 4s/step - loss: 0.6982 - accuracy: 0.7734 - val_loss: 0.6600 - val_accuracy: 0.7838\n",
      "Epoch 6/10\n",
      "196/196 [==============================] - 735s 4s/step - loss: 0.6142 - accuracy: 0.8016 - val_loss: 0.8584 - val_accuracy: 0.7248\n",
      "Epoch 7/10\n",
      "196/196 [==============================] - 737s 4s/step - loss: 0.5611 - accuracy: 0.8197 - val_loss: 0.5502 - val_accuracy: 0.8222\n",
      "Epoch 8/10\n",
      "196/196 [==============================] - 737s 4s/step - loss: 0.5560 - accuracy: 0.8231 - val_loss: 0.5308 - val_accuracy: 0.8277\n",
      "Epoch 9/10\n",
      "196/196 [==============================] - 734s 4s/step - loss: 0.4874 - accuracy: 0.8451 - val_loss: 0.5361 - val_accuracy: 0.8277\n",
      "Epoch 10/10\n",
      "196/196 [==============================] - 737s 4s/step - loss: 0.4535 - accuracy: 0.8554 - val_loss: 0.4509 - val_accuracy: 0.8584\n"
     ]
    }
   ],
   "source": [
    "history_phased = phased_model.fit(X_train,\n",
    "                                  y_train,\n",
    "                                  batch_size=256,\n",
    "                                  epochs=10,\n",
    "                                  validation_data=(X_val, y_val))"
   ]
  },
  {
   "cell_type": "code",
   "execution_count": 13,
   "metadata": {},
   "outputs": [
    {
     "data": {
      "image/png": "[encoded data removed]",
      "text/plain": [
       "<Figure size 600x400 with 1 Axes>"
      ]
     },
     "metadata": {
      "needs_background": "light"
     },
     "output_type": "display_data"
    }
   ],
   "source": [
    "plt.figure(dpi=100)\n",
    "plt.plot(history_lstm.history['accuracy'], label='LSTM', marker='o', color='darkblue')\n",
    "plt.plot(history_phased.history['accuracy'], label='PLSTM', marker='s', color='darkred')\n",
    "plt.legend()\n",
    "plt.grid(True)\n",
    "plt.ylabel('Accuracy')\n",
    "plt.xlabel('Epoch')\n",
    "plt.title('MNIST Validation Loss')\n",
    "\n",
    "plt.savefig('mnist.png', format='png')\n",
    "plt.show()\n"
   ]
  },
  {
   "cell_type": "code",
   "execution_count": null,
   "metadata": {},
   "outputs": [],
   "source": []
  },
  {
   "cell_type": "code",
   "execution_count": null,
   "metadata": {},
   "outputs": [],
   "source": []
  }
 ],
 "metadata": {
  "kernelspec": {
   "display_name": "Python 3",
   "language": "python",
   "name": "python3"
  },
  "language_info": {
   "codemirror_mode": {
    "name": "ipython",
    "version": 3
   },
   "file_extension": ".py",
   "mimetype": "text/x-python",
   "name": "python",
   "nbconvert_exporter": "python",
   "pygments_lexer": "ipython3",
   "version": "3.7.7"
  }
 },
 "nbformat": 4,
 "nbformat_minor": 4
}
